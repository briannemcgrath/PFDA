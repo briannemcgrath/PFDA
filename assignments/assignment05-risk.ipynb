{
 "cells": [
  {
   "cell_type": "markdown",
   "metadata": {},
   "source": [
    "# **Week Five Assignment: Risk**\n",
    "\n",
    "In this notebook, we write a program to simulate 1,000 individual battle rounds in the board game Risk. Our goal is to simulate 1,000 rounds and then analyse the outcomes and visualise our findings. \n",
    "\n",
    "**Author: Brianne McGrath**\n",
    "\n",
    "----"
   ]
  },
  {
   "cell_type": "markdown",
   "metadata": {},
   "source": [
    "## Rules of a Single Battle Round\n",
    "In each round:\n",
    "1. The attacker can roll up to 3 dice, while the defender rolls up to 2 dice.\n",
    "2. The highest rolls from each side are compared:\n",
    "   - If the attacker's roll is higher, the defender loses one troop.\n",
    "   - Otherwise, the attacker loses one troop.\n",
    "3. The second-highest dice are also compared in the same way.\n",
    "\n",
    "---\n",
    "\n",
    "## Step 1: Simulating a Battle Round\n",
    "\n",
    "The function below simulates a battle round according to the rules above. It returns the number of troops lost by the attacker and the defender (hopefully)."
   ]
  },
  {
   "cell_type": "code",
   "execution_count": 76,
   "metadata": {},
   "outputs": [],
   "source": [
    "# import necessary libraries\n",
    " \n",
    "import numpy as np\n",
    "import matplotlib.pyplot as plt"
   ]
  },
  {
   "cell_type": "code",
   "execution_count": 77,
   "metadata": {},
   "outputs": [],
   "source": [
    "def battle_round():\n",
    "    # 3 dice rolls for attacker and 2 dice rolls for defender\n",
    "    a_rolls = np.random.randint(1,7, size=3)\n",
    "    d_rolls = np.random.randint(1,7, size=2)\n",
    "\n",
    "    # sorting rolls in descending order\n",
    "    a_rolls = np.sort(a_rolls)[::-1]\n",
    "    d_rolls = np.sort(d_rolls)[::-1]\n",
    "\n",
    "    # troop losses\n",
    "    a_losses = 0\n",
    "    d_losses = 0\n",
    "\n",
    "    if a_rolls[0] > d_rolls[0]:\n",
    "        d_losses += 1\n",
    "    else:\n",
    "        a_losses += 1\n",
    "\n",
    "    return a_losses, d_losses\n"
   ]
  },
  {
   "cell_type": "code",
   "execution_count": 78,
   "metadata": {},
   "outputs": [
    {
     "name": "stdout",
     "output_type": "stream",
     "text": [
      "Attacker loses: 1, Defender loses: 0\n"
     ]
    }
   ],
   "source": [
    "# testing function\n",
    "\n",
    "a_losses, d_losses = battle_round()\n",
    "print(f\"Attacker loses: {a_losses}, Defender loses: {d_losses}\")"
   ]
  },
  {
   "cell_type": "markdown",
   "metadata": {},
   "source": [
    "## Step 2: Simulating 1,000 Battle Rounds\n",
    "\n",
    "We will now simulate 1,000 battle rounds using the `battle_round` function."
   ]
  },
  {
   "cell_type": "code",
   "execution_count": 79,
   "metadata": {},
   "outputs": [
    {
     "name": "stdout",
     "output_type": "stream",
     "text": [
      "Total Attacker Losses: 546, Total Defender Losses: 454\n"
     ]
    }
   ],
   "source": [
    "def simulate_battles(num_rounds):\n",
    "    total_a_losses = 0\n",
    "    total_d_losses = 0 \n",
    "\n",
    "    for i in range(num_rounds):\n",
    "        a_losses, d_losses = battle_round()\n",
    "        total_a_losses += a_losses\n",
    "        total_d_losses += d_losses\n",
    "\n",
    "    return total_a_losses, total_d_losses\n",
    "\n",
    "# simulate 1,000 battles\n",
    "num_rounds = 1000\n",
    "total_losses = simulate_battles(num_rounds)\n",
    "\n",
    "print(f\"Total Attacker Losses: {total_losses[0]}, Total Defender Losses: {total_losses[1]}\")"
   ]
  },
  {
   "cell_type": "markdown",
   "metadata": {},
   "source": [
    "## Step 3: Plotting the Results\n",
    "\n",
    "We will now plot the total losses for both sides - attacker and defender. "
   ]
  },
  {
   "cell_type": "code",
   "execution_count": 80,
   "metadata": {},
   "outputs": [
    {
     "data": {
      "image/png": "[encoded data removed]",
      "text/plain": [
       "<Figure size 640x480 with 1 Axes>"
      ]
     },
     "metadata": {},
     "output_type": "display_data"
    }
   ],
   "source": [
    "def plot_losses(total_a_losses, total_d_losses):\n",
    "    labels = ['Attacker', 'Defender']\n",
    "    losses = [total_a_losses, total_d_losses]\n",
    "    \n",
    "    # creating bar chart\n",
    "    plt.bar(labels, losses, color=['lightblue', 'pink'])\n",
    "    plt.ylabel('Total Losses')\n",
    "    plt.title('Total Losses in 1,000 Battle Rounds')\n",
    "    plt.show()\n",
    "\n",
    "# plotting\n",
    "plot_losses(total_losses[0], total_losses[1])\n"
   ]
  },
  {
   "cell_type": "markdown",
   "metadata": {},
   "source": [
    "___"
   ]
  },
  {
   "cell_type": "markdown",
   "metadata": {},
   "source": [
    "## **References:**\n",
    "\n",
    "- https://www.ultraboardgames.com/risk/game-rules.php?utm_content=cmp-true (Rules of Risk)"
   ]
  },
  {
   "cell_type": "markdown",
   "metadata": {},
   "source": []
  }
 ],
 "metadata": {
  "kernelspec": {
   "display_name": "base",
   "language": "python",
   "name": "python3"
  },
  "language_info": {
   "codemirror_mode": {
    "name": "ipython",
    "version": 3
   },
   "file_extension": ".py",
   "mimetype": "text/x-python",
   "name": "python",
   "nbconvert_exporter": "python",
   "pygments_lexer": "ipython3",
   "version": "3.11.5"
  }
 },
 "nbformat": 4,
 "nbformat_minor": 2
}
